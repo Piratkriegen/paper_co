{
 "cells": [
  {
   "cell_type": "code",
   "execution_count": 1,
   "id": "c16972fd",
   "metadata": {},
   "outputs": [],
   "source": [
    "%matplotlib inline\n",
    "import pandas as pd\n",
    "import numpy as np\n",
    "import matplotlib.pyplot as plt\n",
    "import seaborn as sns\n",
    "import pandas_profiling\n",
    "\n"
   ]
  },
  {
   "cell_type": "markdown",
   "id": "75871145",
   "metadata": {},
   "source": [
    "# Importing the data\n",
    "\n",
    "## Checking dimension, structure, length of the data and loading it\n",
    "\n",
    "Here I will use a shell-Linux command to check the first 3 lines of the file and the length of the document 🔍"
   ]
  },
  {
   "cell_type": "code",
   "execution_count": 2,
   "id": "78cf7f6d",
   "metadata": {},
   "outputs": [
    {
     "name": "stdout",
     "output_type": "stream",
     "text": [
      "1 1 -0.0007 -0.0004 100.0 518.67 641.82 1589.70 1400.60 14.62 21.61 554.36 2388.06 9046.19 1.30 47.47 521.66 2388.02 8138.62 8.4195 0.03 392 2388 100.00 39.06 23.4190  \r\n",
      "1 2 0.0019 -0.0003 100.0 518.67 642.15 1591.82 1403.14 14.62 21.61 553.75 2388.04 9044.07 1.30 47.49 522.28 2388.07 8131.49 8.4318 0.03 392 2388 100.00 39.00 23.4236  \r\n",
      "1 3 -0.0043 0.0003 100.0 518.67 642.35 1587.99 1404.20 14.62 21.61 554.26 2388.08 9052.94 1.30 47.27 522.42 2388.03 8133.23 8.4178 0.03 390 2388 100.00 38.95 23.3442  \r\n"
     ]
    }
   ],
   "source": [
    "!head --lines=3 PM_train.txt"
   ]
  },
  {
   "cell_type": "code",
   "execution_count": 3,
   "id": "5f252d8f",
   "metadata": {},
   "outputs": [
    {
     "name": "stdout",
     "output_type": "stream",
     "text": [
      "20631 PM_train.txt\r\n"
     ]
    }
   ],
   "source": [
    "!wc --lines PM_train.txt"
   ]
  },
  {
   "cell_type": "markdown",
   "id": "8c94bc99",
   "metadata": {},
   "source": [
    "The data structure is a text file with a visual pattern: for each variable value, it is separated by a blank space, and at the end of each observation a line break, the `read_csv()` can do the job with the separator specified:"
   ]
  },
  {
   "cell_type": "code",
   "execution_count": 11,
   "id": "1039eb8e",
   "metadata": {},
   "outputs": [
    {
     "data": {
      "text/html": [
       "<div>\n",
       "<style scoped>\n",
       "    .dataframe tbody tr th:only-of-type {\n",
       "        vertical-align: middle;\n",
       "    }\n",
       "\n",
       "    .dataframe tbody tr th {\n",
       "        vertical-align: top;\n",
       "    }\n",
       "\n",
       "    .dataframe thead th {\n",
       "        text-align: right;\n",
       "    }\n",
       "</style>\n",
       "<table border=\"1\" class=\"dataframe\">\n",
       "  <thead>\n",
       "    <tr style=\"text-align: right;\">\n",
       "      <th></th>\n",
       "      <th>Asset id</th>\n",
       "      <th>runtime</th>\n",
       "      <th>setting_1</th>\n",
       "      <th>setting_2</th>\n",
       "      <th>setting_3</th>\n",
       "      <th>Tag1</th>\n",
       "      <th>Tag2</th>\n",
       "      <th>Tag3</th>\n",
       "      <th>Tag4</th>\n",
       "      <th>Tag5</th>\n",
       "      <th>...</th>\n",
       "      <th>Tag12</th>\n",
       "      <th>Tag13</th>\n",
       "      <th>Tag14</th>\n",
       "      <th>Tag15</th>\n",
       "      <th>Tag16</th>\n",
       "      <th>Tag17</th>\n",
       "      <th>Tag18</th>\n",
       "      <th>Tag19</th>\n",
       "      <th>Tag20</th>\n",
       "      <th>Tag21</th>\n",
       "    </tr>\n",
       "  </thead>\n",
       "  <tbody>\n",
       "    <tr>\n",
       "      <th>0</th>\n",
       "      <td>1</td>\n",
       "      <td>1</td>\n",
       "      <td>-0.0007</td>\n",
       "      <td>-0.0004</td>\n",
       "      <td>100.0</td>\n",
       "      <td>518.67</td>\n",
       "      <td>641.82</td>\n",
       "      <td>1589.70</td>\n",
       "      <td>1400.60</td>\n",
       "      <td>14.62</td>\n",
       "      <td>...</td>\n",
       "      <td>521.66</td>\n",
       "      <td>2388.02</td>\n",
       "      <td>8138.62</td>\n",
       "      <td>8.4195</td>\n",
       "      <td>0.03</td>\n",
       "      <td>392</td>\n",
       "      <td>2388</td>\n",
       "      <td>100.0</td>\n",
       "      <td>39.06</td>\n",
       "      <td>23.4190</td>\n",
       "    </tr>\n",
       "    <tr>\n",
       "      <th>1</th>\n",
       "      <td>1</td>\n",
       "      <td>2</td>\n",
       "      <td>0.0019</td>\n",
       "      <td>-0.0003</td>\n",
       "      <td>100.0</td>\n",
       "      <td>518.67</td>\n",
       "      <td>642.15</td>\n",
       "      <td>1591.82</td>\n",
       "      <td>1403.14</td>\n",
       "      <td>14.62</td>\n",
       "      <td>...</td>\n",
       "      <td>522.28</td>\n",
       "      <td>2388.07</td>\n",
       "      <td>8131.49</td>\n",
       "      <td>8.4318</td>\n",
       "      <td>0.03</td>\n",
       "      <td>392</td>\n",
       "      <td>2388</td>\n",
       "      <td>100.0</td>\n",
       "      <td>39.00</td>\n",
       "      <td>23.4236</td>\n",
       "    </tr>\n",
       "    <tr>\n",
       "      <th>2</th>\n",
       "      <td>1</td>\n",
       "      <td>3</td>\n",
       "      <td>-0.0043</td>\n",
       "      <td>0.0003</td>\n",
       "      <td>100.0</td>\n",
       "      <td>518.67</td>\n",
       "      <td>642.35</td>\n",
       "      <td>1587.99</td>\n",
       "      <td>1404.20</td>\n",
       "      <td>14.62</td>\n",
       "      <td>...</td>\n",
       "      <td>522.42</td>\n",
       "      <td>2388.03</td>\n",
       "      <td>8133.23</td>\n",
       "      <td>8.4178</td>\n",
       "      <td>0.03</td>\n",
       "      <td>390</td>\n",
       "      <td>2388</td>\n",
       "      <td>100.0</td>\n",
       "      <td>38.95</td>\n",
       "      <td>23.3442</td>\n",
       "    </tr>\n",
       "    <tr>\n",
       "      <th>3</th>\n",
       "      <td>1</td>\n",
       "      <td>4</td>\n",
       "      <td>0.0007</td>\n",
       "      <td>0.0000</td>\n",
       "      <td>100.0</td>\n",
       "      <td>518.67</td>\n",
       "      <td>642.35</td>\n",
       "      <td>1582.79</td>\n",
       "      <td>1401.87</td>\n",
       "      <td>14.62</td>\n",
       "      <td>...</td>\n",
       "      <td>522.86</td>\n",
       "      <td>2388.08</td>\n",
       "      <td>8133.83</td>\n",
       "      <td>8.3682</td>\n",
       "      <td>0.03</td>\n",
       "      <td>392</td>\n",
       "      <td>2388</td>\n",
       "      <td>100.0</td>\n",
       "      <td>38.88</td>\n",
       "      <td>23.3739</td>\n",
       "    </tr>\n",
       "    <tr>\n",
       "      <th>4</th>\n",
       "      <td>1</td>\n",
       "      <td>5</td>\n",
       "      <td>-0.0019</td>\n",
       "      <td>-0.0002</td>\n",
       "      <td>100.0</td>\n",
       "      <td>518.67</td>\n",
       "      <td>642.37</td>\n",
       "      <td>1582.85</td>\n",
       "      <td>1406.22</td>\n",
       "      <td>14.62</td>\n",
       "      <td>...</td>\n",
       "      <td>522.19</td>\n",
       "      <td>2388.04</td>\n",
       "      <td>8133.80</td>\n",
       "      <td>8.4294</td>\n",
       "      <td>0.03</td>\n",
       "      <td>393</td>\n",
       "      <td>2388</td>\n",
       "      <td>100.0</td>\n",
       "      <td>38.90</td>\n",
       "      <td>23.4044</td>\n",
       "    </tr>\n",
       "  </tbody>\n",
       "</table>\n",
       "<p>5 rows × 26 columns</p>\n",
       "</div>"
      ],
      "text/plain": [
       "   Asset id  runtime  setting_1  setting_2  setting_3    Tag1    Tag2  \\\n",
       "0         1        1    -0.0007    -0.0004      100.0  518.67  641.82   \n",
       "1         1        2     0.0019    -0.0003      100.0  518.67  642.15   \n",
       "2         1        3    -0.0043     0.0003      100.0  518.67  642.35   \n",
       "3         1        4     0.0007     0.0000      100.0  518.67  642.35   \n",
       "4         1        5    -0.0019    -0.0002      100.0  518.67  642.37   \n",
       "\n",
       "      Tag3     Tag4   Tag5  ...   Tag12    Tag13    Tag14   Tag15  Tag16  \\\n",
       "0  1589.70  1400.60  14.62  ...  521.66  2388.02  8138.62  8.4195   0.03   \n",
       "1  1591.82  1403.14  14.62  ...  522.28  2388.07  8131.49  8.4318   0.03   \n",
       "2  1587.99  1404.20  14.62  ...  522.42  2388.03  8133.23  8.4178   0.03   \n",
       "3  1582.79  1401.87  14.62  ...  522.86  2388.08  8133.83  8.3682   0.03   \n",
       "4  1582.85  1406.22  14.62  ...  522.19  2388.04  8133.80  8.4294   0.03   \n",
       "\n",
       "   Tag17  Tag18  Tag19  Tag20    Tag21  \n",
       "0    392   2388  100.0  39.06  23.4190  \n",
       "1    392   2388  100.0  39.00  23.4236  \n",
       "2    390   2388  100.0  38.95  23.3442  \n",
       "3    392   2388  100.0  38.88  23.3739  \n",
       "4    393   2388  100.0  38.90  23.4044  \n",
       "\n",
       "[5 rows x 26 columns]"
      ]
     },
     "execution_count": 11,
     "metadata": {},
     "output_type": "execute_result"
    }
   ],
   "source": [
    "# define column names for easy indexing\n",
    "index_names = ['Asset id', 'runtime']\n",
    "setting_names = ['setting_1', 'setting_2', 'setting_3']\n",
    "sensor_names = ['Tag'+str(n) for n in range(1,22)] \n",
    "col_names = index_names + setting_names + sensor_names\n",
    "\n",
    "# read data\n",
    "train_data = pd.read_csv('PM_train.txt', sep='\\s+', header=None, names=col_names)\n",
    "test_data = pd.read_csv('PM_test.txt', sep='\\s+', header=None, names=col_names)\n",
    "\n",
    "train_data.head()"
   ]
  },
  {
   "cell_type": "markdown",
   "id": "85b0c26a",
   "metadata": {},
   "source": [
    "# Exploratory Data Analysis"
   ]
  },
  {
   "cell_type": "code",
   "execution_count": 7,
   "id": "4405f76e",
   "metadata": {},
   "outputs": [
    {
     "data": {
      "application/vnd.jupyter.widget-view+json": {
       "model_id": "538ed7905822493b8c1f749fd6c353d6",
       "version_major": 2,
       "version_minor": 0
      },
      "text/plain": [
       "Summarize dataset:   0%|          | 0/5 [00:00<?, ?it/s]"
      ]
     },
     "metadata": {},
     "output_type": "display_data"
    },
    {
     "data": {
      "application/vnd.jupyter.widget-view+json": {
       "model_id": "36b68b40ece14b6a9060329c176a798e",
       "version_major": 2,
       "version_minor": 0
      },
      "text/plain": [
       "Generate report structure:   0%|          | 0/1 [00:00<?, ?it/s]"
      ]
     },
     "metadata": {},
     "output_type": "display_data"
    },
    {
     "data": {
      "application/vnd.jupyter.widget-view+json": {
       "model_id": "0214a61553fd418e9327fe3187cd6ca6",
       "version_major": 2,
       "version_minor": 0
      },
      "text/plain": [
       "Render HTML:   0%|          | 0/1 [00:00<?, ?it/s]"
      ]
     },
     "metadata": {},
     "output_type": "display_data"
    },
    {
     "data": {
      "application/vnd.jupyter.widget-view+json": {
       "model_id": "5764f229e35c4516aa67f4922a6b6e21",
       "version_major": 2,
       "version_minor": 0
      },
      "text/plain": [
       "Export report to file:   0%|          | 0/1 [00:00<?, ?it/s]"
      ]
     },
     "metadata": {},
     "output_type": "display_data"
    }
   ],
   "source": [
    "# This is a automated exploratory analysis with pandas profiling package\n",
    "profile_test = test_data.profile_report(title='Report for test data')\n",
    "profile_test.to_file(output_file='reports/test.html')"
   ]
  },
  {
   "cell_type": "code",
   "execution_count": 8,
   "id": "aee5e745",
   "metadata": {},
   "outputs": [
    {
     "name": "stdout",
     "output_type": "stream",
     "text": [
      "medium working time: 206.31\n",
      "max working time: 362\n",
      "min working time: 128\n"
     ]
    },
    {
     "data": {
      "image/png": "[encoded data removed]",
      "text/plain": [
       "<Figure size 1440x432 with 1 Axes>"
      ]
     },
     "metadata": {
      "needs_background": "light"
     },
     "output_type": "display_data"
    }
   ],
   "source": [
    "plt.figure(figsize=(20,6))\n",
    "sns.histplot(x='Asset id',\n",
    "             data=train_data,\n",
    "             bins=100)\n",
    "\n",
    "print(\"medium working time:\", train_data['Asset id'].value_counts().mean())\n",
    "print(\"max working time:\", train_data['Asset id'].value_counts().max())\n",
    "print(\"min working time:\", train_data['Asset id'].value_counts().min())"
   ]
  },
  {
   "cell_type": "code",
   "execution_count": 9,
   "id": "3fc8b308",
   "metadata": {
    "scrolled": true
   },
   "outputs": [
    {
     "name": "stdout",
     "output_type": "stream",
     "text": [
      "medium working time: 108.80786195530997\n",
      "max working time: 362\n",
      "min working time: 1\n"
     ]
    }
   ],
   "source": [
    "print(\"medium working time:\", train_data['runtime'].mean())\n",
    "print(\"max working time:\", train_data['runtime'].max())\n",
    "print(\"min working time:\", train_data['runtime'].min())"
   ]
  }
 ],
 "metadata": {
  "kernelspec": {
   "display_name": "Python 3 (ipykernel)",
   "language": "python",
   "name": "python3"
  },
  "language_info": {
   "codemirror_mode": {
    "name": "ipython",
    "version": 3
   },
   "file_extension": ".py",
   "mimetype": "text/x-python",
   "name": "python",
   "nbconvert_exporter": "python",
   "pygments_lexer": "ipython3",
   "version": "3.8.12"
  },
  "toc": {
   "base_numbering": 1,
   "nav_menu": {},
   "number_sections": true,
   "sideBar": true,
   "skip_h1_title": false,
   "title_cell": "Table of Contents",
   "title_sidebar": "Contents",
   "toc_cell": false,
   "toc_position": {},
   "toc_section_display": true,
   "toc_window_display": false
  }
 },
 "nbformat": 4,
 "nbformat_minor": 5
}
